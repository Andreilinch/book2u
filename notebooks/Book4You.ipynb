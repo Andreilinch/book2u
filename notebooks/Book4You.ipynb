{
 "cells": [
  {
   "cell_type": "code",
   "execution_count": 1,
   "id": "825770bf-7f56-4b53-8c61-41730863b3b5",
   "metadata": {
    "tags": [],
    "pycharm": {
     "name": "#%%\n"
    }
   },
   "outputs": [],
   "source": [
    "import pandas as pd"
   ]
  },
  {
   "cell_type": "code",
   "execution_count": 2,
   "id": "28f80d7d-92fe-43e5-910e-4c39327c0468",
   "metadata": {
    "pycharm": {
     "name": "#%%\n"
    }
   },
   "outputs": [],
   "source": [
    "import sys\n",
    "\n",
    "# setting path\n",
    "sys.path.append(\"../src/data\")\n",
    "\n",
    "import data_cleanser"
   ]
  },
  {
   "cell_type": "markdown",
   "id": "cebcef94-fe48-4b66-a2ea-9adce9145550",
   "metadata": {
    "pycharm": {
     "name": "#%% md\n"
    }
   },
   "source": [
    "# Описание очистки датасета"
   ]
  },
  {
   "cell_type": "code",
   "execution_count": 3,
   "id": "20ca908b-c87e-4eca-a11a-f2062ac7c3c8",
   "metadata": {
    "pycharm": {
     "name": "#%%\n"
    }
   },
   "outputs": [
    {
     "name": "stdout",
     "output_type": "stream",
     "text": [
      "<class 'pandas.core.frame.DataFrame'>\n",
      "RangeIndex: 100000 entries, 0 to 99999\n",
      "Data columns (total 13 columns):\n",
      " #   Column        Non-Null Count   Dtype  \n",
      "---  ------        --------------   -----  \n",
      " 0   author        100000 non-null  object \n",
      " 1   bookformat    96772 non-null   object \n",
      " 2   desc          93228 non-null   object \n",
      " 3   genre         89533 non-null   object \n",
      " 4   img           96955 non-null   object \n",
      " 5   isbn          85518 non-null   object \n",
      " 6   isbn13        88565 non-null   object \n",
      " 7   link          100000 non-null  object \n",
      " 8   pages         100000 non-null  int64  \n",
      " 9   rating        100000 non-null  float64\n",
      " 10  reviews       100000 non-null  int64  \n",
      " 11  title         99999 non-null   object \n",
      " 12  totalratings  100000 non-null  int64  \n",
      "dtypes: float64(1), int64(3), object(9)\n",
      "memory usage: 9.9+ MB\n"
     ]
    }
   ],
   "source": [
    "df = pd.read_csv(\"../data/raw/GoodReads_100k_books.csv\")\n",
    "df.info()"
   ]
  },
  {
   "cell_type": "code",
   "execution_count": 4,
   "id": "c1564114-19f5-49f5-99a2-e6fa63db9d5b",
   "metadata": {
    "pycharm": {
     "name": "#%%\n"
    }
   },
   "outputs": [
    {
     "data": {
      "text/plain": "                             author bookformat   \n0              Laurence M. Hauptman  Hardcover  \\\n1  Charlotte Fiell,Emmanuelle Dirix  Paperback   \n2                     Andy Anderson  Paperback   \n3              Carlotta R. Anderson  Hardcover   \n4                     Jean Leveille        NaN   \n\n                                                desc   \n0  Reveals that several hundred thousand Indians ...  \\\n1  Fashion Sourcebook - 1920s is the first book i...   \n2  The seminal history and analysis of the Hungar...   \n3  \"All-American Anarchist\" chronicles the life a...   \n4  Aujourdâ€™hui, lâ€™oiseau nous invite Ã  sa ta...   \n\n                                               genre   \n0  History,Military History,Civil War,American Hi...  \\\n1          Couture,Fashion,Historical,Art,Nonfiction   \n2                                   Politics,History   \n3                                      Labor,History   \n4                                                NaN   \n\n                                                 img        isbn    isbn13   \n0  https://i.gr-assets.com/images/S/compressed.ph...  002914180X  9.78E+12  \\\n1  https://i.gr-assets.com/images/S/compressed.ph...  1906863482  9.78E+12   \n2  https://i.gr-assets.com/images/S/compressed.ph...   948984147  9.78E+12   \n3  https://i.gr-assets.com/images/S/compressed.ph...   814327079  9.78E+12   \n4  https://i.gr-assets.com/images/S/compressed.ph...  2761920813       NaN   \n\n                                                link  pages  rating  reviews   \n0  https://goodreads.com/book/show/1001053.Betwee...      0    3.52        5  \\\n1  https://goodreads.com/book/show/10010552-fashi...    576    4.51        6   \n2  https://goodreads.com/book/show/1001077.Hungar...    124    4.15        2   \n3  https://goodreads.com/book/show/1001079.All_Am...    324    3.83        1   \n4  https://goodreads.com/book/show/10010880-les-o...    177    4.00        1   \n\n                                               title  totalratings  \n0  Between Two Fires: American Indians in the Civ...            33  \n1                           Fashion Sourcebook 1920s            41  \n2                                         Hungary 56            26  \n3  All-American Anarchist: Joseph A. Labadie and ...             6  \n4                              Les oiseaux gourmands             1  ",
      "text/html": "<div>\n<style scoped>\n    .dataframe tbody tr th:only-of-type {\n        vertical-align: middle;\n    }\n\n    .dataframe tbody tr th {\n        vertical-align: top;\n    }\n\n    .dataframe thead th {\n        text-align: right;\n    }\n</style>\n<table border=\"1\" class=\"dataframe\">\n  <thead>\n    <tr style=\"text-align: right;\">\n      <th></th>\n      <th>author</th>\n      <th>bookformat</th>\n      <th>desc</th>\n      <th>genre</th>\n      <th>img</th>\n      <th>isbn</th>\n      <th>isbn13</th>\n      <th>link</th>\n      <th>pages</th>\n      <th>rating</th>\n      <th>reviews</th>\n      <th>title</th>\n      <th>totalratings</th>\n    </tr>\n  </thead>\n  <tbody>\n    <tr>\n      <th>0</th>\n      <td>Laurence M. Hauptman</td>\n      <td>Hardcover</td>\n      <td>Reveals that several hundred thousand Indians ...</td>\n      <td>History,Military History,Civil War,American Hi...</td>\n      <td>https://i.gr-assets.com/images/S/compressed.ph...</td>\n      <td>002914180X</td>\n      <td>9.78E+12</td>\n      <td>https://goodreads.com/book/show/1001053.Betwee...</td>\n      <td>0</td>\n      <td>3.52</td>\n      <td>5</td>\n      <td>Between Two Fires: American Indians in the Civ...</td>\n      <td>33</td>\n    </tr>\n    <tr>\n      <th>1</th>\n      <td>Charlotte Fiell,Emmanuelle Dirix</td>\n      <td>Paperback</td>\n      <td>Fashion Sourcebook - 1920s is the first book i...</td>\n      <td>Couture,Fashion,Historical,Art,Nonfiction</td>\n      <td>https://i.gr-assets.com/images/S/compressed.ph...</td>\n      <td>1906863482</td>\n      <td>9.78E+12</td>\n      <td>https://goodreads.com/book/show/10010552-fashi...</td>\n      <td>576</td>\n      <td>4.51</td>\n      <td>6</td>\n      <td>Fashion Sourcebook 1920s</td>\n      <td>41</td>\n    </tr>\n    <tr>\n      <th>2</th>\n      <td>Andy Anderson</td>\n      <td>Paperback</td>\n      <td>The seminal history and analysis of the Hungar...</td>\n      <td>Politics,History</td>\n      <td>https://i.gr-assets.com/images/S/compressed.ph...</td>\n      <td>948984147</td>\n      <td>9.78E+12</td>\n      <td>https://goodreads.com/book/show/1001077.Hungar...</td>\n      <td>124</td>\n      <td>4.15</td>\n      <td>2</td>\n      <td>Hungary 56</td>\n      <td>26</td>\n    </tr>\n    <tr>\n      <th>3</th>\n      <td>Carlotta R. Anderson</td>\n      <td>Hardcover</td>\n      <td>\"All-American Anarchist\" chronicles the life a...</td>\n      <td>Labor,History</td>\n      <td>https://i.gr-assets.com/images/S/compressed.ph...</td>\n      <td>814327079</td>\n      <td>9.78E+12</td>\n      <td>https://goodreads.com/book/show/1001079.All_Am...</td>\n      <td>324</td>\n      <td>3.83</td>\n      <td>1</td>\n      <td>All-American Anarchist: Joseph A. Labadie and ...</td>\n      <td>6</td>\n    </tr>\n    <tr>\n      <th>4</th>\n      <td>Jean Leveille</td>\n      <td>NaN</td>\n      <td>Aujourdâ€™hui, lâ€™oiseau nous invite Ã  sa ta...</td>\n      <td>NaN</td>\n      <td>https://i.gr-assets.com/images/S/compressed.ph...</td>\n      <td>2761920813</td>\n      <td>NaN</td>\n      <td>https://goodreads.com/book/show/10010880-les-o...</td>\n      <td>177</td>\n      <td>4.00</td>\n      <td>1</td>\n      <td>Les oiseaux gourmands</td>\n      <td>1</td>\n    </tr>\n  </tbody>\n</table>\n</div>"
     },
     "execution_count": 4,
     "metadata": {},
     "output_type": "execute_result"
    }
   ],
   "source": [
    "df.head()"
   ]
  },
  {
   "cell_type": "markdown",
   "id": "fd2adee8-c2be-47c1-8ffc-d912c95bb019",
   "metadata": {
    "pycharm": {
     "name": "#%% md\n"
    }
   },
   "source": [
    "Необходимо удалить все пропуски в колонках `desc`, `genre`, `author` и `title`. Книги без описания, жанровой принадлежности, автора или названия не помогут в построении рекомендательной системы."
   ]
  },
  {
   "cell_type": "code",
   "execution_count": 5,
   "id": "8796129c-50a2-45dc-9abb-706df1a6d14b",
   "metadata": {
    "pycharm": {
     "name": "#%%\n"
    }
   },
   "outputs": [
    {
     "name": "stdout",
     "output_type": "stream",
     "text": [
      "Amount of rows with Nans dropped = 14515\n"
     ]
    }
   ],
   "source": [
    "df = data_cleanser.drop_important_nans(df)"
   ]
  },
  {
   "cell_type": "markdown",
   "id": "cf24d3a2-e512-4b4d-8b56-239a5bb52df7",
   "metadata": {
    "pycharm": {
     "name": "#%% md\n"
    }
   },
   "source": [
    "Книги у которых одинаковое сочетание автор/название. Дублируют уже известную информацию. Стоит их удалить. "
   ]
  },
  {
   "cell_type": "code",
   "execution_count": 6,
   "id": "6ee88314-c6bb-420d-8e85-dfe7e7084a96",
   "metadata": {
    "pycharm": {
     "name": "#%%\n"
    }
   },
   "outputs": [
    {
     "name": "stdout",
     "output_type": "stream",
     "text": [
      "Amount of duplicated rows dropped = 39\n"
     ]
    }
   ],
   "source": [
    "df = data_cleanser.drop_repeated_books(df)"
   ]
  },
  {
   "cell_type": "markdown",
   "id": "c1f5d697-cf2a-479e-b5bf-e51baa325e83",
   "metadata": {
    "pycharm": {
     "name": "#%% md\n"
    }
   },
   "source": [
    "Столбцы с форматом книги, количеством обзоров на книгу и количеством страниц не нужны для построения рекомендательной системы."
   ]
  },
  {
   "cell_type": "code",
   "execution_count": 7,
   "id": "0e4fea5e-a500-464e-b15b-52ea6dcf7b51",
   "metadata": {
    "pycharm": {
     "name": "#%%\n"
    }
   },
   "outputs": [
    {
     "name": "stdout",
     "output_type": "stream",
     "text": [
      "Names of dropped columns: bookformat, reviews, pages\n"
     ]
    }
   ],
   "source": [
    "df = data_cleanser.drop_useless_columns(df)"
   ]
  },
  {
   "cell_type": "markdown",
   "id": "d58e6a5b-6fc7-4a4a-83cd-9a0a5ba02861",
   "metadata": {
    "pycharm": {
     "name": "#%% md\n"
    }
   },
   "source": [
    "Часть значений датафрейма составляют книги написанные на не-английском языке. Рекомендательная система рассчитана только на англоязычные книги. Все книги с нелатинскими символами удаляются из датафрейма."
   ]
  },
  {
   "cell_type": "code",
   "execution_count": 8,
   "id": "4bbc136b-8e0e-45bd-bea6-b66e743e6892",
   "metadata": {
    "pycharm": {
     "name": "#%%\n"
    }
   },
   "outputs": [
    {
     "name": "stdout",
     "output_type": "stream",
     "text": [
      "Amount of rows containing non-english letters dropped = \n",
      "        36720\n"
     ]
    }
   ],
   "source": [
    "df = data_cleanser.drop_non_english_books(df)"
   ]
  },
  {
   "cell_type": "markdown",
   "id": "6a8da9de-7945-41d9-a0ec-da7e8ce472a1",
   "metadata": {
    "pycharm": {
     "name": "#%% md\n"
    }
   },
   "source": [
    "Результат очистки:"
   ]
  },
  {
   "cell_type": "code",
   "execution_count": 9,
   "id": "7810d95f-d58e-497b-9bfd-b69469a22806",
   "metadata": {
    "pycharm": {
     "name": "#%%\n"
    }
   },
   "outputs": [
    {
     "name": "stdout",
     "output_type": "stream",
     "text": [
      "<class 'pandas.core.frame.DataFrame'>\n",
      "Index: 48726 entries, 0 to 99999\n",
      "Data columns (total 10 columns):\n",
      " #   Column        Non-Null Count  Dtype  \n",
      "---  ------        --------------  -----  \n",
      " 0   author        48726 non-null  object \n",
      " 1   desc          48726 non-null  object \n",
      " 2   genre         48726 non-null  object \n",
      " 3   img           48247 non-null  object \n",
      " 4   isbn          44498 non-null  object \n",
      " 5   isbn13        45240 non-null  object \n",
      " 6   link          48726 non-null  object \n",
      " 7   rating        48726 non-null  float64\n",
      " 8   title         48726 non-null  object \n",
      " 9   totalratings  48726 non-null  int64  \n",
      "dtypes: float64(1), int64(1), object(8)\n",
      "memory usage: 4.1+ MB\n"
     ]
    }
   ],
   "source": [
    "df.info()"
   ]
  },
  {
   "cell_type": "code",
   "execution_count": 10,
   "id": "17b330a9-315a-4bf5-abb8-85052fbab1b8",
   "metadata": {
    "pycharm": {
     "name": "#%%\n"
    }
   },
   "outputs": [
    {
     "data": {
      "text/plain": "                             author   \n0              Laurence M. Hauptman  \\\n1  Charlotte Fiell,Emmanuelle Dirix   \n2                     Andy Anderson   \n3              Carlotta R. Anderson   \n6                   Jeffrey Pfeffer   \n\n                                                desc   \n0  Reveals that several hundred thousand Indians ...  \\\n1  Fashion Sourcebook - 1920s is the first book i...   \n2  The seminal history and analysis of the Hungar...   \n3  \"All-American Anarchist\" chronicles the life a...   \n6  \"Competitive Advantage Through People\" explore...   \n\n                                               genre   \n0  History,Military History,Civil War,American Hi...  \\\n1          Couture,Fashion,Historical,Art,Nonfiction   \n2                                   Politics,History   \n3                                      Labor,History   \n6  Business,Leadership,Business,Management,Romanc...   \n\n                                                 img        isbn    isbn13   \n0  https://i.gr-assets.com/images/S/compressed.ph...  002914180X  9.78E+12  \\\n1  https://i.gr-assets.com/images/S/compressed.ph...  1906863482  9.78E+12   \n2  https://i.gr-assets.com/images/S/compressed.ph...   948984147  9.78E+12   \n3  https://i.gr-assets.com/images/S/compressed.ph...   814327079  9.78E+12   \n6  https://i.gr-assets.com/images/S/compressed.ph...  087584717X  9.78E+12   \n\n                                                link  rating   \n0  https://goodreads.com/book/show/1001053.Betwee...    3.52  \\\n1  https://goodreads.com/book/show/10010552-fashi...    4.51   \n2  https://goodreads.com/book/show/1001077.Hungar...    4.15   \n3  https://goodreads.com/book/show/1001079.All_Am...    3.83   \n6  https://goodreads.com/book/show/1001092.Compet...    3.65   \n\n                                               title  totalratings  \n0  Between Two Fires: American Indians in the Civ...            33  \n1                           Fashion Sourcebook 1920s            41  \n2                                         Hungary 56            26  \n3  All-American Anarchist: Joseph A. Labadie and ...             6  \n6  Competitive Advantage Through People: Unleashi...            20  ",
      "text/html": "<div>\n<style scoped>\n    .dataframe tbody tr th:only-of-type {\n        vertical-align: middle;\n    }\n\n    .dataframe tbody tr th {\n        vertical-align: top;\n    }\n\n    .dataframe thead th {\n        text-align: right;\n    }\n</style>\n<table border=\"1\" class=\"dataframe\">\n  <thead>\n    <tr style=\"text-align: right;\">\n      <th></th>\n      <th>author</th>\n      <th>desc</th>\n      <th>genre</th>\n      <th>img</th>\n      <th>isbn</th>\n      <th>isbn13</th>\n      <th>link</th>\n      <th>rating</th>\n      <th>title</th>\n      <th>totalratings</th>\n    </tr>\n  </thead>\n  <tbody>\n    <tr>\n      <th>0</th>\n      <td>Laurence M. Hauptman</td>\n      <td>Reveals that several hundred thousand Indians ...</td>\n      <td>History,Military History,Civil War,American Hi...</td>\n      <td>https://i.gr-assets.com/images/S/compressed.ph...</td>\n      <td>002914180X</td>\n      <td>9.78E+12</td>\n      <td>https://goodreads.com/book/show/1001053.Betwee...</td>\n      <td>3.52</td>\n      <td>Between Two Fires: American Indians in the Civ...</td>\n      <td>33</td>\n    </tr>\n    <tr>\n      <th>1</th>\n      <td>Charlotte Fiell,Emmanuelle Dirix</td>\n      <td>Fashion Sourcebook - 1920s is the first book i...</td>\n      <td>Couture,Fashion,Historical,Art,Nonfiction</td>\n      <td>https://i.gr-assets.com/images/S/compressed.ph...</td>\n      <td>1906863482</td>\n      <td>9.78E+12</td>\n      <td>https://goodreads.com/book/show/10010552-fashi...</td>\n      <td>4.51</td>\n      <td>Fashion Sourcebook 1920s</td>\n      <td>41</td>\n    </tr>\n    <tr>\n      <th>2</th>\n      <td>Andy Anderson</td>\n      <td>The seminal history and analysis of the Hungar...</td>\n      <td>Politics,History</td>\n      <td>https://i.gr-assets.com/images/S/compressed.ph...</td>\n      <td>948984147</td>\n      <td>9.78E+12</td>\n      <td>https://goodreads.com/book/show/1001077.Hungar...</td>\n      <td>4.15</td>\n      <td>Hungary 56</td>\n      <td>26</td>\n    </tr>\n    <tr>\n      <th>3</th>\n      <td>Carlotta R. Anderson</td>\n      <td>\"All-American Anarchist\" chronicles the life a...</td>\n      <td>Labor,History</td>\n      <td>https://i.gr-assets.com/images/S/compressed.ph...</td>\n      <td>814327079</td>\n      <td>9.78E+12</td>\n      <td>https://goodreads.com/book/show/1001079.All_Am...</td>\n      <td>3.83</td>\n      <td>All-American Anarchist: Joseph A. Labadie and ...</td>\n      <td>6</td>\n    </tr>\n    <tr>\n      <th>6</th>\n      <td>Jeffrey Pfeffer</td>\n      <td>\"Competitive Advantage Through People\" explore...</td>\n      <td>Business,Leadership,Business,Management,Romanc...</td>\n      <td>https://i.gr-assets.com/images/S/compressed.ph...</td>\n      <td>087584717X</td>\n      <td>9.78E+12</td>\n      <td>https://goodreads.com/book/show/1001092.Compet...</td>\n      <td>3.65</td>\n      <td>Competitive Advantage Through People: Unleashi...</td>\n      <td>20</td>\n    </tr>\n  </tbody>\n</table>\n</div>"
     },
     "execution_count": 10,
     "metadata": {},
     "output_type": "execute_result"
    }
   ],
   "source": [
    "df.head()"
   ]
  },
  {
   "cell_type": "code",
   "execution_count": 10,
   "outputs": [],
   "source": [],
   "metadata": {
    "collapsed": false,
    "pycharm": {
     "name": "#%%\n"
    }
   }
  }
 ],
 "metadata": {
  "kernelspec": {
   "display_name": "Python 3 (ipykernel)",
   "language": "python",
   "name": "python3"
  },
  "language_info": {
   "codemirror_mode": {
    "name": "ipython",
    "version": 3
   },
   "file_extension": ".py",
   "mimetype": "text/x-python",
   "name": "python",
   "nbconvert_exporter": "python",
   "pygments_lexer": "ipython3",
   "version": "3.9.12"
  }
 },
 "nbformat": 4,
 "nbformat_minor": 5
}